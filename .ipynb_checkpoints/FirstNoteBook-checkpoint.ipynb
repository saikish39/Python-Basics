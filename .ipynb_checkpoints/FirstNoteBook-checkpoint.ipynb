{
 "cells": [
  {
   "cell_type": "code",
   "execution_count": 3,
   "metadata": {},
   "outputs": [
    {
     "data": {
      "text/plain": [
       "40"
      ]
     },
     "execution_count": 3,
     "metadata": {},
     "output_type": "execute_result"
    }
   ],
   "source": [
    "28+12"
   ]
  },
  {
   "cell_type": "code",
   "execution_count": 2,
   "metadata": {},
   "outputs": [
    {
     "name": "stdout",
     "output_type": "stream",
     "text": [
      "Notebook retains intermediate results\n"
     ]
    }
   ],
   "source": [
    "print(\"Notebook retains intermediate results\")"
   ]
  },
  {
   "cell_type": "markdown",
   "metadata": {},
   "source": [
    "Selecting Markdown will enable us to feed in comments.\n",
    "This is a Markdown Section\n",
    "Ways to run python\n",
    "1. Immediate mode - use cmd and enter python\n",
    "2. Script mode - Create a file using .py extension and open it in cmd\n",
    "3. IDE - Using Spyder, Pycharm"
   ]
  },
  {
   "cell_type": "code",
   "execution_count": 4,
   "metadata": {},
   "outputs": [
    {
     "name": "stdout",
     "output_type": "stream",
     "text": [
      "Python 3.7.3\n"
     ]
    }
   ],
   "source": [
    "!python --version"
   ]
  },
  {
   "cell_type": "markdown",
   "metadata": {},
   "source": [
    "We can make use of terminal commands by including '!' symbol like we have done above."
   ]
  },
  {
   "cell_type": "code",
   "execution_count": 6,
   "metadata": {
    "scrolled": true
   },
   "outputs": [
    {
     "name": "stdout",
     "output_type": "stream",
     "text": [
      " Volume in drive C is Windows\n",
      " Volume Serial Number is FA14-073B\n",
      "\n",
      " Directory of C:\\Users\\Sai\\Python Basics\n",
      "\n",
      "07/04/2019  03:19 PM    <DIR>          .\n",
      "07/04/2019  03:19 PM    <DIR>          ..\n",
      "07/04/2019  03:10 PM    <DIR>          .ipynb_checkpoints\n",
      "07/04/2019  03:19 PM             1,755 FirstNoteBook.ipynb\n",
      "07/04/2019  02:46 PM                22 test.py\n",
      "07/04/2019  02:43 PM                 0 test.txt\n",
      "               3 File(s)          1,777 bytes\n",
      "               3 Dir(s)  143,827,734,528 bytes free\n"
     ]
    }
   ],
   "source": [
    "!dir"
   ]
  },
  {
   "cell_type": "code",
   "execution_count": 7,
   "metadata": {},
   "outputs": [],
   "source": [
    "#Even in code section we can leave comments using '#' at the beginning"
   ]
  },
  {
   "cell_type": "code",
   "execution_count": 8,
   "metadata": {},
   "outputs": [
    {
     "name": "stdout",
     "output_type": "stream",
     "text": [
      "25\n"
     ]
    }
   ],
   "source": [
    "!python test.py"
   ]
  },
  {
   "cell_type": "code",
   "execution_count": 9,
   "metadata": {},
   "outputs": [
    {
     "data": {
      "text/plain": [
       "39"
      ]
     },
     "execution_count": 9,
     "metadata": {},
     "output_type": "execute_result"
    }
   ],
   "source": [
    "a= 39\n",
    "a"
   ]
  },
  {
   "cell_type": "markdown",
   "metadata": {},
   "source": [
    "In Jupyter NB, the variable in last line is automatically printed despite not having the print command."
   ]
  },
  {
   "cell_type": "code",
   "execution_count": 10,
   "metadata": {},
   "outputs": [
    {
     "data": {
      "text/plain": [
       "int"
      ]
     },
     "execution_count": 10,
     "metadata": {},
     "output_type": "execute_result"
    }
   ],
   "source": [
    "type(a)"
   ]
  },
  {
   "cell_type": "code",
   "execution_count": 12,
   "metadata": {},
   "outputs": [
    {
     "data": {
      "text/plain": [
       "(12, (2+3j), 'Hi')"
      ]
     },
     "execution_count": 12,
     "metadata": {},
     "output_type": "execute_result"
    }
   ],
   "source": [
    "a,b,c = 12, 2+3j, \"Hi\"\n",
    "a,b,c"
   ]
  },
  {
   "cell_type": "code",
   "execution_count": 13,
   "metadata": {},
   "outputs": [
    {
     "data": {
      "text/plain": [
       "23"
      ]
     },
     "execution_count": 13,
     "metadata": {},
     "output_type": "execute_result"
    }
   ],
   "source": [
    "a=b=c=23\n",
    "b"
   ]
  },
  {
   "cell_type": "markdown",
   "metadata": {},
   "source": [
    "Strings are immutable. That is, it can't be changed using their indexes."
   ]
  },
  {
   "cell_type": "markdown",
   "metadata": {},
   "source": [
    "Scalar is 1D data\n",
    "Group of Scalar is Vector\n",
    "Group of Vector is Matrix\n",
    "Group of Matrix is Tersor"
   ]
  },
  {
   "cell_type": "code",
   "execution_count": 14,
   "metadata": {},
   "outputs": [],
   "source": [
    "#List\n",
    "#can have heterogenous data inside it.\n",
    "list_eg = [2,39,\"sai\"]"
   ]
  },
  {
   "cell_type": "code",
   "execution_count": 15,
   "metadata": {},
   "outputs": [
    {
     "data": {
      "text/plain": [
       "'sai'"
      ]
     },
     "execution_count": 15,
     "metadata": {},
     "output_type": "execute_result"
    }
   ],
   "source": [
    "list_eg[2]"
   ]
  },
  {
   "cell_type": "code",
   "execution_count": 20,
   "metadata": {},
   "outputs": [],
   "source": [
    "#To view the functns available for lists, use '.' and press \"tab\".\n",
    "list_eg.insert(3,32)"
   ]
  },
  {
   "cell_type": "code",
   "execution_count": 21,
   "metadata": {},
   "outputs": [
    {
     "data": {
      "text/plain": [
       "[2, 39, 'sai', 32]"
      ]
     },
     "execution_count": 21,
     "metadata": {},
     "output_type": "execute_result"
    }
   ],
   "source": [
    "list_eg"
   ]
  },
  {
   "cell_type": "code",
   "execution_count": 22,
   "metadata": {},
   "outputs": [
    {
     "data": {
      "text/plain": [
       "[2, 39, 'sai', 32]"
      ]
     },
     "execution_count": 22,
     "metadata": {},
     "output_type": "execute_result"
    }
   ],
   "source": [
    "list_eg.sort\n",
    "list_eg"
   ]
  },
  {
   "cell_type": "code",
   "execution_count": 23,
   "metadata": {},
   "outputs": [
    {
     "name": "stdout",
     "output_type": "stream",
     "text": [
      "Help on built-in function sort:\n",
      "\n",
      "sort(*, key=None, reverse=False) method of builtins.list instance\n",
      "    Stable sort *IN PLACE*.\n",
      "\n"
     ]
    }
   ],
   "source": [
    "help(list_eg.sort)"
   ]
  },
  {
   "cell_type": "code",
   "execution_count": 29,
   "metadata": {},
   "outputs": [
    {
     "data": {
      "text/plain": [
       "1"
      ]
     },
     "execution_count": 29,
     "metadata": {},
     "output_type": "execute_result"
    }
   ],
   "source": [
    "list_eg.count('sai')"
   ]
  },
  {
   "cell_type": "code",
   "execution_count": 30,
   "metadata": {},
   "outputs": [
    {
     "data": {
      "text/plain": [
       "[2, 39, 'sai', 32]"
      ]
     },
     "execution_count": 30,
     "metadata": {},
     "output_type": "execute_result"
    }
   ],
   "source": [
    "list_eg"
   ]
  },
  {
   "cell_type": "code",
   "execution_count": 31,
   "metadata": {},
   "outputs": [
    {
     "name": "stdout",
     "output_type": "stream",
     "text": [
      "Help on built-in function count:\n",
      "\n",
      "count(value, /) method of builtins.list instance\n",
      "    Return number of occurrences of value.\n",
      "\n"
     ]
    }
   ],
   "source": [
    "help(list_eg.count)"
   ]
  },
  {
   "cell_type": "code",
   "execution_count": 32,
   "metadata": {},
   "outputs": [],
   "source": [
    "#Tuple\n",
    "#Same like lists but it is immutable.\n",
    "tuple_eg = (1,2,3.9,'Sai',1+2j)"
   ]
  },
  {
   "cell_type": "code",
   "execution_count": 34,
   "metadata": {},
   "outputs": [],
   "source": [
    "#Set\n",
    "#Accepts heterogenous data but duplicates are not allowed.\n",
    "#It is immutable.\n",
    "#It also sorts the set using hashing.\n",
    "#We can't access the set using index because it makes use of hashes while sorting and indexes aren't available anymore.\n",
    "set_eg = {1,46,39,99,12,20}"
   ]
  },
  {
   "cell_type": "code",
   "execution_count": 35,
   "metadata": {},
   "outputs": [
    {
     "data": {
      "text/plain": [
       "set"
      ]
     },
     "execution_count": 35,
     "metadata": {},
     "output_type": "execute_result"
    }
   ],
   "source": [
    "type(set_eg)"
   ]
  },
  {
   "cell_type": "code",
   "execution_count": 36,
   "metadata": {},
   "outputs": [
    {
     "data": {
      "text/plain": [
       "{1, 12, 20, 39, 46, 99}"
      ]
     },
     "execution_count": 36,
     "metadata": {},
     "output_type": "execute_result"
    }
   ],
   "source": [
    "set_eg"
   ]
  },
  {
   "cell_type": "code",
   "execution_count": 38,
   "metadata": {},
   "outputs": [
    {
     "data": {
      "text/plain": [
       "1"
      ]
     },
     "execution_count": 38,
     "metadata": {},
     "output_type": "execute_result"
    }
   ],
   "source": [
    "set_eg.pop()"
   ]
  },
  {
   "cell_type": "code",
   "execution_count": 39,
   "metadata": {},
   "outputs": [
    {
     "data": {
      "text/plain": [
       "{12, 20, 39, 46, 99}"
      ]
     },
     "execution_count": 39,
     "metadata": {},
     "output_type": "execute_result"
    }
   ],
   "source": [
    "set_eg"
   ]
  },
  {
   "cell_type": "code",
   "execution_count": 41,
   "metadata": {},
   "outputs": [],
   "source": [
    "set_eg.add(1)"
   ]
  },
  {
   "cell_type": "code",
   "execution_count": 42,
   "metadata": {},
   "outputs": [
    {
     "data": {
      "text/plain": [
       "{1, 12, 20, 39, 46, 99}"
      ]
     },
     "execution_count": 42,
     "metadata": {},
     "output_type": "execute_result"
    }
   ],
   "source": [
    "set_eg"
   ]
  },
  {
   "cell_type": "code",
   "execution_count": 44,
   "metadata": {},
   "outputs": [],
   "source": [
    "#Dictionary\n",
    "#Has (Key:Value,...) pairs. Key cannot be duplicated whereas Value can be duplicated.\n",
    "#Values are mutable using keys\n",
    "dict_eg = {1:\"first\",2:\"second\",3:\"third\",4:\"first\"}"
   ]
  },
  {
   "cell_type": "code",
   "execution_count": 45,
   "metadata": {},
   "outputs": [
    {
     "data": {
      "text/plain": [
       "'third'"
      ]
     },
     "execution_count": 45,
     "metadata": {},
     "output_type": "execute_result"
    }
   ],
   "source": [
    "dict_eg[3]"
   ]
  },
  {
   "cell_type": "code",
   "execution_count": 46,
   "metadata": {},
   "outputs": [
    {
     "data": {
      "text/plain": [
       "'first'"
      ]
     },
     "execution_count": 46,
     "metadata": {},
     "output_type": "execute_result"
    }
   ],
   "source": [
    "dict_eg[4]"
   ]
  },
  {
   "cell_type": "code",
   "execution_count": 48,
   "metadata": {},
   "outputs": [
    {
     "data": {
      "text/plain": [
       "{1: 'first', 2: 'second', 3: 'third', 4: 'fourth'}"
      ]
     },
     "execution_count": 48,
     "metadata": {},
     "output_type": "execute_result"
    }
   ],
   "source": [
    "dict_eg[4] = \"fourth\"\n",
    "dict_eg"
   ]
  },
  {
   "cell_type": "code",
   "execution_count": 50,
   "metadata": {},
   "outputs": [
    {
     "data": {
      "text/plain": [
       "dict_items([(1, 'first'), (2, 'second'), (3, 'third'), (4, 'fourth')])"
      ]
     },
     "execution_count": 50,
     "metadata": {},
     "output_type": "execute_result"
    }
   ],
   "source": [
    "dict_eg.items()"
   ]
  },
  {
   "cell_type": "code",
   "execution_count": 51,
   "metadata": {},
   "outputs": [
    {
     "data": {
      "text/plain": [
       "float"
      ]
     },
     "execution_count": 51,
     "metadata": {},
     "output_type": "execute_result"
    }
   ],
   "source": [
    "#Type Conversion\n",
    "\n",
    "a = 39.4\n",
    "type(a)"
   ]
  },
  {
   "cell_type": "code",
   "execution_count": 53,
   "metadata": {},
   "outputs": [
    {
     "data": {
      "text/plain": [
       "(int, 39)"
      ]
     },
     "execution_count": 53,
     "metadata": {},
     "output_type": "execute_result"
    }
   ],
   "source": [
    "a = int(a)\n",
    "type(a), a"
   ]
  },
  {
   "cell_type": "code",
   "execution_count": 54,
   "metadata": {},
   "outputs": [],
   "source": [
    "b = \"10\"\n",
    "b = int(b)"
   ]
  },
  {
   "cell_type": "code",
   "execution_count": 55,
   "metadata": {},
   "outputs": [
    {
     "ename": "ValueError",
     "evalue": "invalid literal for int() with base 10: 'a'",
     "output_type": "error",
     "traceback": [
      "\u001b[1;31m---------------------------------------------------------------------------\u001b[0m",
      "\u001b[1;31mValueError\u001b[0m                                Traceback (most recent call last)",
      "\u001b[1;32m<ipython-input-55-eb80259f1146>\u001b[0m in \u001b[0;36m<module>\u001b[1;34m\u001b[0m\n\u001b[0;32m      1\u001b[0m \u001b[0mc\u001b[0m \u001b[1;33m=\u001b[0m \u001b[1;34m'a'\u001b[0m\u001b[1;33m\u001b[0m\u001b[1;33m\u001b[0m\u001b[0m\n\u001b[1;32m----> 2\u001b[1;33m \u001b[0mc\u001b[0m \u001b[1;33m=\u001b[0m \u001b[0mint\u001b[0m\u001b[1;33m(\u001b[0m\u001b[0mc\u001b[0m\u001b[1;33m)\u001b[0m\u001b[1;33m\u001b[0m\u001b[1;33m\u001b[0m\u001b[0m\n\u001b[0m\u001b[0;32m      3\u001b[0m \u001b[0mc\u001b[0m\u001b[1;33m\u001b[0m\u001b[1;33m\u001b[0m\u001b[0m\n",
      "\u001b[1;31mValueError\u001b[0m: invalid literal for int() with base 10: 'a'"
     ]
    }
   ],
   "source": [
    "c = 'a'\n",
    "c = int(c)\n",
    "c"
   ]
  },
  {
   "cell_type": "code",
   "execution_count": 56,
   "metadata": {},
   "outputs": [
    {
     "data": {
      "text/plain": [
       "list"
      ]
     },
     "execution_count": 56,
     "metadata": {},
     "output_type": "execute_result"
    }
   ],
   "source": [
    "list1 = [1,2,3,4,5]\n",
    "type(list1)"
   ]
  },
  {
   "cell_type": "code",
   "execution_count": 57,
   "metadata": {},
   "outputs": [
    {
     "data": {
      "text/plain": [
       "(1, 2, 3, 4, 5)"
      ]
     },
     "execution_count": 57,
     "metadata": {},
     "output_type": "execute_result"
    }
   ],
   "source": [
    "tuple1 = tuple(list1)\n",
    "tuple1"
   ]
  },
  {
   "cell_type": "code",
   "execution_count": 58,
   "metadata": {},
   "outputs": [
    {
     "data": {
      "text/plain": [
       "{1, 2, 3, 4, 5}"
      ]
     },
     "execution_count": 58,
     "metadata": {},
     "output_type": "execute_result"
    }
   ],
   "source": [
    "set(list1)"
   ]
  },
  {
   "cell_type": "code",
   "execution_count": 59,
   "metadata": {},
   "outputs": [
    {
     "data": {
      "text/plain": [
       "[[1, 2], [3, 6], ['sai', 'kish']]"
      ]
     },
     "execution_count": 59,
     "metadata": {},
     "output_type": "execute_result"
    }
   ],
   "source": [
    "list2 = [[1,2],[3,6],[\"sai\",\"kish\"]]\n",
    "list2"
   ]
  },
  {
   "cell_type": "code",
   "execution_count": 60,
   "metadata": {},
   "outputs": [
    {
     "data": {
      "text/plain": [
       "'kish'"
      ]
     },
     "execution_count": 60,
     "metadata": {},
     "output_type": "execute_result"
    }
   ],
   "source": [
    "list2[2][1]"
   ]
  },
  {
   "cell_type": "code",
   "execution_count": 61,
   "metadata": {},
   "outputs": [
    {
     "data": {
      "text/plain": [
       "{1: 2, 3: 6, 'sai': 'kish'}"
      ]
     },
     "execution_count": 61,
     "metadata": {},
     "output_type": "execute_result"
    }
   ],
   "source": [
    "dict(list2)"
   ]
  },
  {
   "cell_type": "code",
   "execution_count": 62,
   "metadata": {},
   "outputs": [
    {
     "name": "stdout",
     "output_type": "stream",
     "text": [
      "Enter a number: 39\n"
     ]
    }
   ],
   "source": [
    "a = int(input(\"Enter a number: \"))"
   ]
  },
  {
   "cell_type": "code",
   "execution_count": 63,
   "metadata": {},
   "outputs": [
    {
     "data": {
      "text/plain": [
       "39"
      ]
     },
     "execution_count": 63,
     "metadata": {},
     "output_type": "execute_result"
    }
   ],
   "source": [
    "a"
   ]
  },
  {
   "cell_type": "code",
   "execution_count": 74,
   "metadata": {},
   "outputs": [
    {
     "name": "stdout",
     "output_type": "stream",
     "text": [
      "Enter a number: 1\n",
      "Enter a float: 2.0\n",
      "Enter a string: sai\n",
      "Enter a complex no.: 1+2j\n",
      "List is  [1, 2.0, 'sai', (1+2j)]\n",
      "Tuple is  (1, 2.0, 'sai', (1+2j))\n",
      "Tuple is immutable, so cant add new items\n",
      "Set is {(1+2j), 1, 2.0, 'sai'}\n",
      "Enter an element to add to set: 6\n",
      "set after adding the element is: \n",
      "Converting set to list\n",
      "List is [1, 2.0, (1+2j), '6', 'sai']\n",
      "New list is  [100, 2.0, (1+2j), '6', 'sai']\n"
     ]
    }
   ],
   "source": [
    "var1 = int(input(\"Enter a number: \"))\n",
    "var2 = float(input(\"Enter a float: \"))\n",
    "var3 = str(input(\"Enter a string: \"))\n",
    "var4 = complex(input(\"Enter a complex no.: \"))\n",
    "var5 = [var1,var2,var3,var4]\n",
    "print(\"List is \",var5)\n",
    "tuple1 = tuple(var5)\n",
    "print(\"Tuple is \",tuple1)\n",
    "#tuple1[1] = 3.0\n",
    "print(\"Tuple is immutable, so cant add new items\")\n",
    "set1 = set(tuple1)\n",
    "print(\"Set is\",set1)\n",
    "setadd = input(\"Enter an element to add to set: \")\n",
    "set1.add(setadd)\n",
    "print(\"set after adding the element is: \")\n",
    "set1\n",
    "print(\"Converting set to list\")\n",
    "list1 = list(set1)\n",
    "print(\"List is\", list1)\n",
    "list1[0]= 100\n",
    "print(\"New list is \", list1)"
   ]
  },
  {
   "cell_type": "code",
   "execution_count": 76,
   "metadata": {},
   "outputs": [
    {
     "name": "stdout",
     "output_type": "stream",
     "text": [
      "Enter first key: 1\n",
      "Enter first value: first\n",
      "Enter second key: 2\n",
      "Enter second value: second\n",
      "Enter third key: 3\n",
      "Enter third value: third\n",
      "Enter fourth key: 4\n",
      "Enter fourth value: fourth\n",
      "List is  [['1', 'first'], ['2', 'second'], ['3', 'third'], ['4', 'fourth']]\n",
      "Converting to dictionary\n",
      "Dictionary is  {'1': 'first', '2': 'second', '3': 'third', '4': 'fourth'}\n"
     ]
    }
   ],
   "source": [
    "var1_key = input(\"Enter first key: \")\n",
    "var1_value = input(\"Enter first value: \")\n",
    "var2_key = input(\"Enter second key: \")\n",
    "var2_value = input(\"Enter second value: \")\n",
    "var3_key = input(\"Enter third key: \")\n",
    "var3_value = input(\"Enter third value: \")\n",
    "var4_key = input(\"Enter fourth key: \")\n",
    "var4_value = input(\"Enter fourth value: \")\n",
    "list1 = [[var1_key,var1_value],[var2_key,var2_value],[var3_key,var3_value],[var4_key,var4_value]]\n",
    "print(\"List is \",list1)\n",
    "print(\"Converting to dictionary\")\n",
    "dict1 = dict(list1)\n",
    "print(\"Dictionary is \", dict1)"
   ]
  },
  {
   "cell_type": "markdown",
   "metadata": {},
   "source": [
    "13/04/19"
   ]
  },
  {
   "cell_type": "markdown",
   "metadata": {},
   "source": [
    "\n",
    "Python uses indendation for code blocks instead of '{}' braces"
   ]
  },
  {
   "cell_type": "code",
   "execution_count": 4,
   "metadata": {},
   "outputs": [
    {
     "name": "stdout",
     "output_type": "stream",
     "text": [
      "Enter your age: 24\n",
      "Your age is  24\n",
      "You're an adult\n"
     ]
    }
   ],
   "source": [
    "age = int(input(\"Enter your age: \"))\n",
    "print(\"Your age is \", age)\n",
    "\n",
    "if age==0:\n",
    "    print(\"Invalid Input\")\n",
    "\n",
    "elif age<=20:\n",
    "    print(\"You're not an adult\")\n",
    "\n",
    "else:\n",
    "    print(\"You're an adult\")"
   ]
  },
  {
   "cell_type": "code",
   "execution_count": 6,
   "metadata": {},
   "outputs": [
    {
     "name": "stdout",
     "output_type": "stream",
     "text": [
      "24\n"
     ]
    }
   ],
   "source": [
    "print(age)"
   ]
  },
  {
   "cell_type": "markdown",
   "metadata": {},
   "source": [
    "In Python, we have range for \"for\" loops, which starts from 0 and ends at mentioned range-1 by default.\n",
    "We can also mention start of range in '()' "
   ]
  },
  {
   "cell_type": "code",
   "execution_count": 8,
   "metadata": {},
   "outputs": [
    {
     "name": "stdout",
     "output_type": "stream",
     "text": [
      "3\n",
      "13\n",
      "15\n",
      "20\n",
      "19\n",
      "46\n",
      "39\n"
     ]
    }
   ],
   "source": [
    "sample_data = [3,13,15,20,19,46,39]\n",
    "for i in range(len(sample_data)):\n",
    "    print(sample_data[i])"
   ]
  },
  {
   "cell_type": "code",
   "execution_count": 10,
   "metadata": {},
   "outputs": [
    {
     "name": "stdout",
     "output_type": "stream",
     "text": [
      "3\n",
      "13\n",
      "15\n",
      "20\n",
      "19\n",
      "46\n",
      "39\n"
     ]
    }
   ],
   "source": [
    "#Alternate way for above cases:\n",
    "#But we can't access the data using their index in this method\n",
    "for i in sample_data:\n",
    "    print(i)"
   ]
  },
  {
   "cell_type": "code",
   "execution_count": 11,
   "metadata": {},
   "outputs": [
    {
     "name": "stdout",
     "output_type": "stream",
     "text": [
      "Enter string: Sai\n",
      "S\n",
      "a\n",
      "i\n"
     ]
    }
   ],
   "source": [
    "#Iterate through string:\n",
    "sample_str = input(\"Enter string: \")\n",
    "for i in sample_str:\n",
    "    print(i)"
   ]
  },
  {
   "cell_type": "markdown",
   "metadata": {},
   "source": [
    "Break stops and exits from the loop statement.\n",
    "Continue skips the code below it and goes for next iteration."
   ]
  },
  {
   "cell_type": "code",
   "execution_count": 12,
   "metadata": {},
   "outputs": [
    {
     "name": "stdout",
     "output_type": "stream",
     "text": [
      "39\n",
      "38\n",
      "37\n",
      "36\n",
      "35\n",
      "34\n",
      "33\n",
      "32\n",
      "31\n"
     ]
    }
   ],
   "source": [
    "integer = 39\n",
    "while integer>30:        #Condition\n",
    "    print(integer)\n",
    "    integer-=1           #Decrement statement"
   ]
  },
  {
   "cell_type": "code",
   "execution_count": 2,
   "metadata": {},
   "outputs": [
    {
     "name": "stdout",
     "output_type": "stream",
     "text": [
      "Enter list size: 5\n",
      "Enter Element: 1\n",
      "Enter Element: 2\n",
      "Enter Element: 3\n",
      "Enter Element: 4\n",
      "Enter Element: 5\n",
      "List is  [1, 2, 3, 4, 5]\n",
      "Sum of list elements is  15\n"
     ]
    }
   ],
   "source": [
    "#get size of list and get the list\n",
    "size = int(input(\"Enter list size: \"))\n",
    "sum_list = 0\n",
    "user_list = []\n",
    "for i in range(size):\n",
    "    num = int(input(\"Enter Element: \"))\n",
    "    user_list.append(num)\n",
    "for i in user_list:\n",
    "    sum_list = sum_list + i            \n",
    "print(\"List is \",user_list)\n",
    "print(\"Sum of list elements is \",sum_list)"
   ]
  },
  {
   "cell_type": "code",
   "execution_count": 4,
   "metadata": {},
   "outputs": [
    {
     "name": "stdout",
     "output_type": "stream",
     "text": [
      "Enter list size: 6\n",
      "Enter element: 1\n",
      "Enter element: 2\n",
      "Enter element: 3\n",
      "Enter element: 4\n",
      "Enter element: 5\n",
      "Enter element: 6\n",
      "Even elements in the list: \n",
      "[2, 4, 6]\n"
     ]
    }
   ],
   "source": [
    "#Get size and list and display even elements\n",
    "size = int(input(\"Enter list size: \"))\n",
    "user_list2 = []\n",
    "user_evenlist = []\n",
    "for i in range(size):\n",
    "    num = int(input(\"Enter element: \"))\n",
    "    user_list2.append(num)\n",
    "print(\"Even elements in the list: \")\n",
    "for i in user_list2:\n",
    "    if(i%2==0):\n",
    "        user_evenlist.append(i)\n",
    "print(user_evenlist)"
   ]
  },
  {
   "cell_type": "code",
   "execution_count": 10,
   "metadata": {
    "scrolled": true
   },
   "outputs": [
    {
     "name": "stdout",
     "output_type": "stream",
     "text": [
      "Enter the number: 5\n",
      "Factorial  is  120\n"
     ]
    }
   ],
   "source": [
    "#Factorial of a number\n",
    "number = int(input(\"Enter the number: \"))\n",
    "factorial = 1\n",
    "for i in range(1,number+1):\n",
    "    factorial = factorial * i\n",
    "print(\"Factorial  is \", factorial)"
   ]
  },
  {
   "cell_type": "markdown",
   "metadata": {},
   "source": [
    "Functions:\n",
    "SYN: def function_name(parameters/void):\n",
    "         \"\"\" docstring - mention use of function\"\"\"\n",
    "         -function definition-\n",
    "Accessing docstring : function_name? , help(function_name), test.__doc__    \n",
    "A Function can return more than one values\n",
    "ie, eg:\n",
    "def f():\n",
    "    return 1,2\n",
    "a,b = f() -> here, a gets 1 and b gets 2"
   ]
  },
  {
   "cell_type": "code",
   "execution_count": 12,
   "metadata": {},
   "outputs": [
    {
     "data": {
      "text/plain": [
       "12"
      ]
     },
     "execution_count": 12,
     "metadata": {},
     "output_type": "execute_result"
    }
   ],
   "source": [
    "def sum(a,b):\n",
    "    \"\"\"Sum of two int\"\"\"\n",
    "    return a+b\n",
    "sum(3,9)\n"
   ]
  },
  {
   "cell_type": "code",
   "execution_count": 13,
   "metadata": {},
   "outputs": [
    {
     "name": "stdout",
     "output_type": "stream",
     "text": [
      "Help on function sum in module __main__:\n",
      "\n",
      "sum(a, b)\n",
      "    Sum of two int\n",
      "\n"
     ]
    }
   ],
   "source": [
    "help(sum)"
   ]
  },
  {
   "cell_type": "code",
   "execution_count": 14,
   "metadata": {},
   "outputs": [
    {
     "data": {
      "text/plain": [
       "'Sum of two int'"
      ]
     },
     "execution_count": 14,
     "metadata": {},
     "output_type": "execute_result"
    }
   ],
   "source": [
    "sum.__doc__"
   ]
  },
  {
   "cell_type": "markdown",
   "metadata": {},
   "source": [
    "Scope of variables in a function are local"
   ]
  },
  {
   "cell_type": "markdown",
   "metadata": {},
   "source": [
    "- Default parameters\n",
    "- Arbitraray Arguments\n"
   ]
  },
  {
   "cell_type": "code",
   "execution_count": 15,
   "metadata": {},
   "outputs": [
    {
     "name": "stdout",
     "output_type": "stream",
     "text": [
      "Hello Sai\n",
      "Hello Kishore\n"
     ]
    }
   ],
   "source": [
    "#Arbitrary Argument - If number of parameters can vary, then use it\n",
    "def greet(*name):\n",
    "    for i in name:\n",
    "        print (\"Hello\", i)\n",
    "greet(\"Sai\",\"Kishore\")\n",
    "\n",
    "    "
   ]
  },
  {
   "cell_type": "code",
   "execution_count": 17,
   "metadata": {},
   "outputs": [
    {
     "name": "stdout",
     "output_type": "stream",
     "text": [
      "Enter the 1st number: 6\n",
      "Enter the 2nd number: 3\n",
      "1. Add\n",
      "2. Multiply\n",
      "3. Subtract\n",
      "4. Divide\n",
      "5. Modulo\n",
      "6. Exit\n",
      "Enter choice: 1\n",
      "9\n"
     ]
    }
   ],
   "source": [
    "#Function to add sub mul div of two numbers and get the choice from user to print 1,2,3,4 respectively\n",
    "def sum_of_nos(a,b):\n",
    "    \"\"\"Sum of two nos\"\"\"\n",
    "    return a+b\n",
    "def multiply_nos(a,b):\n",
    "    \"\"\"Multiplication of a & b\"\"\"\n",
    "    return a*b\n",
    "def difference_of_nos(a,b):\n",
    "    \"\"\"Difference between a & b\"\"\"\n",
    "    if(a>=b):\n",
    "        return a-b\n",
    "    else:\n",
    "        return b-a\n",
    "def division_of_nos(a,b):\n",
    "    \"\"\"Division between a & b\"\"\"\n",
    "    return a//b\n",
    "def modulo_of_nos(a,b):\n",
    "    \"\"\"Modulo operation between a & b\"\"\"\n",
    "    return a%b\n",
    "\n",
    "num1 = int(input(\"Enter the 1st number: \"))\n",
    "num2 = int(input(\"Enter the 2nd number: \"))\n",
    "print(\"1. Add\")\n",
    "print(\"2. Multiply\")\n",
    "print(\"3. Subtract\")\n",
    "print(\"4. Divide\")\n",
    "print(\"5. Modulo\")\n",
    "print(\"6. Exit\")\n",
    "choice = int(input(\"Enter choice: \"))\n",
    "if(choice == 1):\n",
    "    print(sum_of_nos(num1,num2))\n",
    "elif(choice == 2):\n",
    "    print(multiply_nos(num1,num2))\n",
    "elif(choice == 3):\n",
    "    print(difference_of_nos(num1,num2))\n",
    "elif(choice == 4):\n",
    "    print(division_of_nos(num1,num2))\n",
    "elif(choice == 5):\n",
    "    print(modulo_of_nos(num1,num2))\n",
    "elif(choice == 6):\n",
    "    print(\"\")"
   ]
  },
  {
   "cell_type": "code",
   "execution_count": 21,
   "metadata": {},
   "outputs": [
    {
     "name": "stdout",
     "output_type": "stream",
     "text": [
      "Enter size of list: 5\n",
      "Enter the element: 1\n",
      "Enter the element: 2\n",
      "Enter the element: 3\n",
      "Enter the element: 4\n",
      "Enter the element: 5\n",
      "Enter the number of highest elements to view: 3\n",
      "5\n",
      "4\n",
      "3\n"
     ]
    }
   ],
   "source": [
    "#Define a function that takes a list and a number as an argument and returns the highest valued 'n' elements from the list\n",
    "def highest_nos(u_list, n):\n",
    "    \"\"\"Function to return 'n' number of highest nos. from the given list\"\"\"\n",
    "    \n",
    "    for i in range(len(u_list)-1):         # Sorting the list in Desc order\n",
    "        iMax = i\n",
    "        for j in range(i+1,len(u_list)):\n",
    "            if(u_list[j]>u_list[iMax]):\n",
    "                iMax = j\n",
    "        temp = u_list[i]\n",
    "        u_list[i] = u_list[iMax]\n",
    "        u_list[iMax] = temp\n",
    "    for k in range(n):                     # Printing the n highest nos. from the sorted list\n",
    "        print(u_list[k])\n",
    "\n",
    "user_list = []                             # Main starts here\n",
    "size = int(input(\"Enter size of list: \"))\n",
    "for i in range(size):\n",
    "    element = int(input(\"Enter the element: \"))\n",
    "    user_list.append(element)\n",
    "num = int(input(\"Enter the number of highest elements to view: \"))\n",
    "highest_nos(user_list,num)                 # Function call\n",
    "                    "
   ]
  },
  {
   "cell_type": "markdown",
   "metadata": {},
   "source": [
    "14/04/19"
   ]
  },
  {
   "cell_type": "code",
   "execution_count": 23,
   "metadata": {},
   "outputs": [
    {
     "name": "stdout",
     "output_type": "stream",
     "text": [
      "Common elements in the list are:  [1, 5, 6, 7, 10]\n"
     ]
    }
   ],
   "source": [
    "#Get two lists and if they have common data, display it as a seperate list\n",
    "def get_common_data(list1, list2):\n",
    "    \"\"\"Function to find common elements between two lists\"\"\"\n",
    "    common_data_list = []\n",
    "    for i in list1:\n",
    "        for j in list2:\n",
    "            if (i==j):                       # Comparison of elements in both the lists\n",
    "                common_data_list.append(i)\n",
    "    print(\"Common elements in the list are: \", common_data_list)\n",
    "\n",
    "listA = [1,5,6,7,8,10]                       # Main starts here\n",
    "listB = [1,6,0,7,5,10]\n",
    "get_common_data(listA,listB)                 # Function call\n",
    "                "
   ]
  },
  {
   "cell_type": "markdown",
   "metadata": {},
   "source": [
    "Recursive function :\n",
    "    - Function that calls itself \n",
    "    - A proper break condition is required\n",
    "eg:\n",
    "    def fact(num):\n",
    "        if(num==1):\n",
    "            return 1\n",
    "        else:\n",
    "            return (num*fact(num-1))\n"
   ]
  },
  {
   "cell_type": "code",
   "execution_count": 25,
   "metadata": {},
   "outputs": [
    {
     "name": "stdout",
     "output_type": "stream",
     "text": [
      "Enter the number: 10\n",
      "Sum is:  55\n"
     ]
    }
   ],
   "source": [
    "#Get a num from user and find sum of natural nos. until that num\n",
    "\n",
    "def sum_of_nos(num):\n",
    "    \"\"\"Function to get sum of 'n' natural nos.\"\"\"\n",
    "    if(num==1):                           # Break condition\n",
    "        return 1\n",
    "    else:\n",
    "        return (num+sum_of_nos(num-1))    # Recursive function call \n",
    "\n",
    "number = int(input(\"Enter the number: \")) # Main starts here\n",
    "sum = sum_of_nos(number)                  # Initial function call\n",
    "print(\"Sum is: \", sum)"
   ]
  },
  {
   "cell_type": "code",
   "execution_count": 51,
   "metadata": {},
   "outputs": [
    {
     "name": "stdout",
     "output_type": "stream",
     "text": [
      "Iterating through the element  Orange\n",
      "First letter of Orange is O\n",
      "Last letter of Orange is e\n",
      "Iterating through the element  applE\n",
      "First letter of applE is a\n",
      "Last letter of applE is E\n",
      "Iterating through the element  GrapE\n",
      "First letter of GrapE is G\n",
      "Last letter of GrapE is E\n",
      "Iterating through the element  pineapple\n",
      "First letter of pineapple is p\n",
      "Last letter of pineapple is e\n",
      "Iterating through the element  Berry\n",
      "First letter of Berry is B\n",
      "Last letter of Berry is y\n",
      "Given List is  ['Orange', 'applE', 'GrapE', 'pineapple', 'Berry']\n",
      "Elements in correct format are:  ['Orange', 'Berry']\n"
     ]
    }
   ],
   "source": [
    "#Check for the first letter of each element to be uppercase & last letter to be lowercase in foll. list and print those \n",
    "\n",
    "list_fruits = [\"Orange\",\"applE\",\"GrapE\",\"pineapple\",\"Berry\"]  \n",
    "ans = []\n",
    "for i in list_fruits:                                           # Iterating through the list\n",
    "        print(\"Iterating through the element \", i)\n",
    "        print(\"First letter of {} is {}\".format(i,i[0]))\n",
    "        first_letter = i[0]\n",
    "        #first_letter = first_letter.upper()\n",
    "        print(\"Last letter of {} is {}\".format(i,i[len(i)-1]))\n",
    "        last_letter = i[len(i)-1]\n",
    "        #last_letter = last_letter.lower()\n",
    "        is_first_letter_upper = first_letter.isupper()\n",
    "        is_last_letter_lower = last_letter.islower()\n",
    "        if is_first_letter_upper and is_last_letter_lower:      # Check for UC and LC\n",
    "            ans.append(i)\n",
    "print(\"Given List is \", list_fruits)\n",
    "print(\"Elements in correct format are: \", ans)\n"
   ]
  },
  {
   "cell_type": "code",
   "execution_count": 5,
   "metadata": {},
   "outputs": [
    {
     "name": "stdout",
     "output_type": "stream",
     "text": [
      "Enter list size: 3\n",
      "Enter the element: 1\n",
      "Enter the element: 2\n",
      "Enter the element: 3\n",
      "[1, 2, 3]\n"
     ]
    }
   ],
   "source": [
    "### Get a list and display the reverse of it without using .reverse function  --- Yet to complete\n",
    "\n",
    "user_list = []\n",
    "size = int(input(\"Enter list size: \"))\n",
    "for i in range(size):\n",
    "    element = int(input(\"Enter the element: \"))\n",
    "    user_list.append(element)\n",
    "print(user_list)\n",
    "#for j in range(len(user_list), -1,-1):\n",
    "#    print(user_list[j])\n",
    "#print(\"Reverse is : \", range(size,-1,-1))"
   ]
  },
  {
   "cell_type": "markdown",
   "metadata": {},
   "source": [
    "Splicing : retrieve substring \n",
    "eg : list1[3:7]\n",
    "\n",
    "Lambda function : Can be used as a parameter for another function\n",
    "                  It's an anonymous function\n",
    "SYN : something = lambda name : some function\n",
    "eg  : square = lambda x : x**2 "
   ]
  },
  {
   "cell_type": "code",
   "execution_count": 9,
   "metadata": {},
   "outputs": [
    {
     "name": "stdout",
     "output_type": "stream",
     "text": [
      "9\n",
      "81\n"
     ]
    }
   ],
   "source": [
    "square = lambda x: x**2\n",
    "print(square(3))\n",
    "print(square(9))"
   ]
  },
  {
   "cell_type": "code",
   "execution_count": 11,
   "metadata": {},
   "outputs": [
    {
     "name": "stdout",
     "output_type": "stream",
     "text": [
      "[1, 4, 9, 16, 25]\n"
     ]
    }
   ],
   "source": [
    "#Function to square the list using Lambda function\n",
    "lst = [1,2,3,4,5]\n",
    "new_lst = []\n",
    "for i in lst:\n",
    "    new_lst.append(square(i))  # Usage of lambda function\n",
    "print(new_lst)"
   ]
  },
  {
   "cell_type": "markdown",
   "metadata": {},
   "source": [
    "map - a function to work on various lists,etc. \n",
    "SYN : map(lambda function, list of data)\n",
    "Note:  * Only lambda functions can be processed inside the map function\n",
    "       * Lambda, map & filter functions are usually used for optimizing bigger code sections\n",
    "       * In map, the functn. will be executed on every item of the data. Whereas, in filter, it checks for the items that pass          the condition of the functn."
   ]
  },
  {
   "cell_type": "code",
   "execution_count": 17,
   "metadata": {},
   "outputs": [
    {
     "data": {
      "text/plain": [
       "[1, 4, 9, 16, 25]"
      ]
     },
     "execution_count": 17,
     "metadata": {},
     "output_type": "execute_result"
    }
   ],
   "source": [
    "#Converting the above program using map function \n",
    "\n",
    "list(map(lambda x: x**2,lst)) "
   ]
  },
  {
   "cell_type": "code",
   "execution_count": 21,
   "metadata": {},
   "outputs": [
    {
     "data": {
      "text/plain": [
       "[2, 4, 6]"
      ]
     },
     "execution_count": 21,
     "metadata": {},
     "output_type": "execute_result"
    }
   ],
   "source": [
    "#To find even nos. from a list much easily, use filter() function \n",
    "\n",
    "lst_no = [1,2,3,4,5,6]\n",
    "list(filter(lambda x : x%2==0,lst_no))"
   ]
  },
  {
   "cell_type": "code",
   "execution_count": 19,
   "metadata": {},
   "outputs": [
    {
     "data": {
      "text/plain": [
       "['a', 'e', 'i']"
      ]
     },
     "execution_count": 19,
     "metadata": {},
     "output_type": "execute_result"
    }
   ],
   "source": [
    "#Get vowels from a sample list using filter() fn.\n",
    "\n",
    "lst = ['a','b','e','f','g','i','r','s']\n",
    "list(filter(lambda x: x=='a' or x=='e' or x=='i' or x=='o' or x=='u',lst))"
   ]
  },
  {
   "cell_type": "markdown",
   "metadata": {},
   "source": [
    "Reduce function - groups/process multiple datas into one\n",
    "SYN: reduce(lambda param1,param2,..:function definition, data to be grouped)\n",
    "Reduce function can also contain predefined functions in place of Lambda functions\n",
    "eg : reduce(greatest,list1)\n",
    "A lambda function in reduce must have at least 2 datas as arguments\n",
    "I/P of Reduce : Vector | O/P of Reduce : Scalar"
   ]
  },
  {
   "cell_type": "code",
   "execution_count": 34,
   "metadata": {},
   "outputs": [
    {
     "name": "stdout",
     "output_type": "stream",
     "text": [
      "Enter no: 5\n"
     ]
    },
    {
     "data": {
      "text/plain": [
       "120"
      ]
     },
     "execution_count": 34,
     "metadata": {},
     "output_type": "execute_result"
    }
   ],
   "source": [
    "#Find the factorial of a number using reduce function\n",
    "\n",
    "import functools                  # Major Library\n",
    "from functools import reduce      # Importing features of reduce from the big library\n",
    "number = int(input(\"Enter no: \"))\n",
    "reduce(lambda x,y:x*y,range(1,number+1))"
   ]
  },
  {
   "cell_type": "code",
   "execution_count": 42,
   "metadata": {},
   "outputs": [
    {
     "data": {
      "text/plain": [
       "20"
      ]
     },
     "execution_count": 42,
     "metadata": {},
     "output_type": "execute_result"
    }
   ],
   "source": [
    "#Find the biggest number using reduce fn.\n",
    "\n",
    "import functools\n",
    "from functools import reduce\n",
    "list1 = [1,5,10,15,20]\n",
    "reduce(lambda x,y: x if x>y else y,list1)"
   ]
  },
  {
   "cell_type": "code",
   "execution_count": 43,
   "metadata": {},
   "outputs": [
    {
     "data": {
      "text/plain": [
       "[1, 25, 100, 225, 400]"
      ]
     },
     "execution_count": 43,
     "metadata": {},
     "output_type": "execute_result"
    }
   ],
   "source": [
    "# List Comprehension \n",
    "\n",
    "list1 = [1,5,10,15,20]\n",
    "[i**2 for i in list1]   # Square of numbers in list"
   ]
  },
  {
   "cell_type": "code",
   "execution_count": 49,
   "metadata": {},
   "outputs": [
    {
     "data": {
      "text/plain": [
       "[2, 4, 6]"
      ]
     },
     "execution_count": 49,
     "metadata": {},
     "output_type": "execute_result"
    }
   ],
   "source": [
    "#Find even nos using list comprehension\n",
    "\n",
    "list1 = [1,2,3,4,5,6,7]\n",
    "[i for i in list1 if i%2==0]"
   ]
  },
  {
   "cell_type": "code",
   "execution_count": 50,
   "metadata": {},
   "outputs": [
    {
     "data": {
      "text/plain": [
       "['Odd', 'Even', 'Odd', 'Even', 'Odd', 'Even', 'Odd']"
      ]
     },
     "execution_count": 50,
     "metadata": {},
     "output_type": "execute_result"
    }
   ],
   "source": [
    "#If you want to also use 'else' in list comprehension\n",
    "\n",
    "[\"Even\" if i%2==0 else \"Odd\" for i in list1]"
   ]
  },
  {
   "cell_type": "code",
   "execution_count": 52,
   "metadata": {},
   "outputs": [
    {
     "data": {
      "text/plain": [
       "[2, 4]"
      ]
     },
     "execution_count": 52,
     "metadata": {},
     "output_type": "execute_result"
    }
   ],
   "source": [
    "#Finding common elements in two lists\n",
    "\n",
    "list1 = [1,2,3,4,5]\n",
    "list2 = [2,4,6,8,10]\n",
    "[i for i in list1 for j in list2 if i==j]"
   ]
  },
  {
   "cell_type": "code",
   "execution_count": 62,
   "metadata": {},
   "outputs": [
    {
     "data": {
      "text/plain": [
       "((1, 2), (1, 7), (2, 7), (3, 2), (3, 7))"
      ]
     },
     "execution_count": 62,
     "metadata": {},
     "output_type": "execute_result"
    }
   ],
   "source": [
    "#Print tuples of elements from both the lists that are not equal\n",
    "\n",
    "list1 = [1,2,3]\n",
    "list2 = [2,7]\n",
    "tuple((i,j) for i in list1 for j in list2 if i!=j)"
   ]
  },
  {
   "cell_type": "code",
   "execution_count": 63,
   "metadata": {},
   "outputs": [
    {
     "data": {
      "text/plain": [
       "[[0, 0, 0],\n",
       " [1, 0, 1],\n",
       " [1, 1, 0],\n",
       " [2, 0, 2],\n",
       " [2, 2, 0],\n",
       " [3, 0, 3],\n",
       " [3, 3, 0],\n",
       " [4, 0, 4],\n",
       " [4, 4, 0]]"
      ]
     },
     "execution_count": 63,
     "metadata": {},
     "output_type": "execute_result"
    }
   ],
   "source": [
    "#for a in range(5):\n",
    "#   for b in range(5):\n",
    "#       for c in range(5):\n",
    "#           if(a*a = b*b+c*c):\n",
    "#                print([a,b,c])\n",
    "\n",
    "# Convert the above code using list comprehension\n",
    "\n",
    "[[i,j,k] for i in range(5) for j in range(5) for k in range(5) if i*i is (j*j+k*k)]"
   ]
  },
  {
   "cell_type": "markdown",
   "metadata": {},
   "source": [
    "# Exception \n"
   ]
  },
  {
   "cell_type": "code",
   "execution_count": 65,
   "metadata": {},
   "outputs": [
    {
     "name": "stdout",
     "output_type": "stream",
     "text": [
      "Divide by zero\n",
      "Division is done\n"
     ]
    }
   ],
   "source": [
    "try:\n",
    "    a = 10\n",
    "    b = 0\n",
    "    a/b\n",
    "except:\n",
    "    print(\"Divide by zero\")\n",
    "print(\"Division is done\")"
   ]
  },
  {
   "cell_type": "code",
   "execution_count": 71,
   "metadata": {},
   "outputs": [
    {
     "name": "stdout",
     "output_type": "stream",
     "text": [
      "Enter a number: !\n",
      "Enter a valid number!\n",
      "Exception type:  invalid literal for int() with base 10: '!'\n",
      "This is finally block execution\n"
     ]
    }
   ],
   "source": [
    "try:\n",
    "    num = int(input(\"Enter a number: \"))\n",
    "except (ValueError) as e:\n",
    "    print(\"Enter a valid number!\")\n",
    "    print(\"Exception type: \",e)\n",
    "except (Exception) as e:                        # Generic exception\n",
    "    print(\"Exception! Type: \", e)\n",
    "finally:                                        # Will run always regardless of occurence of an exception \n",
    "    print(\"This is finally block execution\")"
   ]
  },
  {
   "cell_type": "markdown",
   "metadata": {},
   "source": [
    "27/04/19"
   ]
  },
  {
   "cell_type": "markdown",
   "metadata": {},
   "source": [
    "# Importing a file"
   ]
  },
  {
   "cell_type": "code",
   "execution_count": 1,
   "metadata": {},
   "outputs": [
    {
     "data": {
      "text/plain": [
       "5"
      ]
     },
     "execution_count": 1,
     "metadata": {},
     "output_type": "execute_result"
    }
   ],
   "source": [
    "#Importing a file\n",
    "#Here, the whole file gets imported for usage.\n",
    "import addsub          #SYNTAX line\n",
    "addsub.add(1,4)"
   ]
  },
  {
   "cell_type": "code",
   "execution_count": 2,
   "metadata": {},
   "outputs": [
    {
     "data": {
      "text/plain": [
       "-6"
      ]
     },
     "execution_count": 2,
     "metadata": {},
     "output_type": "execute_result"
    }
   ],
   "source": [
    "#Importing just the function from a whole file\n",
    "from addsub import sub    #SYNTAX line\n",
    "sub(3,9)"
   ]
  },
  {
   "cell_type": "markdown",
   "metadata": {},
   "source": [
    "# Class & Object"
   ]
  },
  {
   "cell_type": "markdown",
   "metadata": {},
   "source": [
    "Class - Template\n",
    "| Object - Make use of template\n"
   ]
  },
  {
   "cell_type": "code",
   "execution_count": 6,
   "metadata": {},
   "outputs": [],
   "source": [
    "#Sample Class and Object usage\n",
    "class test:\n",
    "    def __init__(self,x):        #Constructor\n",
    "        self.training = x\n",
    "        \n",
    "    training = \"Inceptez\"\n",
    "    def welcome(self):\n",
    "        print(\"Welcome to\", self.training)"
   ]
  },
  {
   "cell_type": "code",
   "execution_count": 7,
   "metadata": {},
   "outputs": [
    {
     "name": "stdout",
     "output_type": "stream",
     "text": [
      "Welcome to Inceptez\n"
     ]
    }
   ],
   "source": [
    "obj = test()     #Object Creation\n",
    "obj.welcome()    #Function calling using OBJECT"
   ]
  },
  {
   "cell_type": "markdown",
   "metadata": {},
   "source": [
    "* 'self' parameter is necessary for class functions\n",
    "* There is no 'private' and 'protected' for data members of a class"
   ]
  },
  {
   "cell_type": "code",
   "execution_count": 8,
   "metadata": {},
   "outputs": [],
   "source": [
    "#Importing OS library\n",
    "import os"
   ]
  },
  {
   "cell_type": "code",
   "execution_count": 11,
   "metadata": {},
   "outputs": [
    {
     "data": {
      "text/plain": [
       "['.ipynb_checkpoints',\n",
       " 'addsub.py',\n",
       " 'FirstNoteBook.ipynb',\n",
       " 'test.py',\n",
       " 'test.txt',\n",
       " '__pycache__']"
      ]
     },
     "execution_count": 11,
     "metadata": {},
     "output_type": "execute_result"
    }
   ],
   "source": [
    "#List of all the files in the dir\n",
    "os.listdir()"
   ]
  },
  {
   "cell_type": "code",
   "execution_count": 12,
   "metadata": {},
   "outputs": [
    {
     "data": {
      "text/plain": [
       "'C:\\\\Users\\\\Sai\\\\Python Basics'"
      ]
     },
     "execution_count": 12,
     "metadata": {},
     "output_type": "execute_result"
    }
   ],
   "source": [
    "#Get current working dir\n",
    "os.getcwd()"
   ]
  },
  {
   "cell_type": "code",
   "execution_count": 13,
   "metadata": {},
   "outputs": [],
   "source": [
    "#Creating a new dir\n",
    "os.mkdir(\"test\")"
   ]
  },
  {
   "cell_type": "markdown",
   "metadata": {},
   "source": [
    "* Explore options for a directory using 'tab' after the '.' operator"
   ]
  },
  {
   "cell_type": "markdown",
   "metadata": {},
   "source": [
    "-- End of Python class --"
   ]
  }
 ],
 "metadata": {
  "kernelspec": {
   "display_name": "Python 3",
   "language": "python",
   "name": "python3"
  },
  "language_info": {
   "codemirror_mode": {
    "name": "ipython",
    "version": 3
   },
   "file_extension": ".py",
   "mimetype": "text/x-python",
   "name": "python",
   "nbconvert_exporter": "python",
   "pygments_lexer": "ipython3",
   "version": "3.7.3"
  }
 },
 "nbformat": 4,
 "nbformat_minor": 2
}
