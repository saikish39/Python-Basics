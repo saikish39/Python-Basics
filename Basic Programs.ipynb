{
 "cells": [
  {
   "cell_type": "code",
   "execution_count": 1,
   "metadata": {},
   "outputs": [
    {
     "name": "stdout",
     "output_type": "stream",
     "text": [
      "Enter the first number: 3\n",
      "Enter the second number: 7\n",
      "1.Add\n",
      "2.Subtract\n",
      "3.Multiply\n",
      "4.Divide\n",
      "Enter your choice of operation(1/2/3/4): 4\n",
      "Division gives the result  0.42857142857142855\n"
     ]
    }
   ],
   "source": [
    "# Add,Subtract, Multiply & divide 2 numbers\n",
    "\n",
    "x = int(input(\"Enter the first number: \"))\n",
    "y = int(input(\"Enter the second number: \"))\n",
    "print(\"1.Add\")\n",
    "print(\"2.Subtract\")\n",
    "print(\"3.Multiply\")\n",
    "print(\"4.Divide\")\n",
    "choice = int(input(\"Enter your choice of operation(1/2/3/4): \"))\n",
    "if choice==1:\n",
    "    print(\"Sum is \",(x+y))\n",
    "elif choice==2:\n",
    "    print(\"Difference is \",(x-y))\n",
    "elif choice==3:\n",
    "    print(\"Product is \",(x*y))\n",
    "elif choice==4:\n",
    "    print(\"Division gives the result \",(x/y))\n",
    "else:\n",
    "    print(\"Invalid choice!\")"
   ]
  },
  {
   "cell_type": "code",
   "execution_count": 4,
   "metadata": {},
   "outputs": [
    {
     "name": "stdout",
     "output_type": "stream",
     "text": [
      "Enter first number: 356\n",
      "Enter second number: 355\n",
      "356 is greater\n"
     ]
    }
   ],
   "source": [
    "# Maximum of two numbers\n",
    "\n",
    "num1 = int(input(\"Enter first number: \"))\n",
    "num2 = int(input(\"Enter second number: \"))\n",
    "if num1>num2:\n",
    "    print(\"%d is greater\" %num1)\n",
    "elif num1==num2:\n",
    "    print(\"Both the numbers are equal\")\n",
    "else:\n",
    "    print(\"%d is greater\" %num2)"
   ]
  },
  {
   "cell_type": "code",
   "execution_count": 5,
   "metadata": {},
   "outputs": [
    {
     "name": "stdout",
     "output_type": "stream",
     "text": [
      "Enter the number: 3\n",
      "Factorial of 3 is 6\n"
     ]
    }
   ],
   "source": [
    "# Factorial of a number\n",
    "\n",
    "def factorial(n):\n",
    "    return 1 if (n==0 or n==1) else n*factorial(n-1)\n",
    "\n",
    "num = int(input(\"Enter the number: \"))\n",
    "print(\"Factorial of\",num,\"is\",factorial(num))"
   ]
  },
  {
   "cell_type": "code",
   "execution_count": 7,
   "metadata": {},
   "outputs": [
    {
     "name": "stdout",
     "output_type": "stream",
     "text": [
      "Enter the Principle Amount: 10000\n",
      "Enter the Time period (in yrs): 2\n",
      "Enter the Rate of Interest: 14\n",
      "The Simple Interest is  2800.0\n"
     ]
    }
   ],
   "source": [
    "# Finding Simple Interest \n",
    "\n",
    "p = int(input(\"Enter the Principle Amount: \"))\n",
    "n = int(input(\"Enter the Time period (in yrs): \"))\n",
    "r = int(input(\"Enter the Rate of Interest: \"))\n",
    "simple_interest = (p*n*r)/100\n",
    "print(\"The Simple Interest is \", simple_interest)"
   ]
  },
  {
   "cell_type": "code",
   "execution_count": 11,
   "metadata": {},
   "outputs": [
    {
     "name": "stdout",
     "output_type": "stream",
     "text": [
      "Enter the Principle Amount: 10000\n",
      "Enter the Time period (in yrs): 2\n",
      "Enter the Rate of Interest: 14\n",
      "Compound Interest is  12996.000000000004\n"
     ]
    }
   ],
   "source": [
    "# Finding Compound Interest\n",
    "\n",
    "p = int(input(\"Enter the Principle Amount: \"))\n",
    "n = int(input(\"Enter the Time period (in yrs): \"))\n",
    "r = int(input(\"Enter the Rate of Interest: \"))\n",
    "ci = p * (pow((1+r/100),n))\n",
    "print(\"Compound Interest is \",ci)"
   ]
  },
  {
   "cell_type": "code",
   "execution_count": 4,
   "metadata": {},
   "outputs": [
    {
     "name": "stdout",
     "output_type": "stream",
     "text": [
      "Enter the number: 153\n",
      "153 is an Armstrong Number\n"
     ]
    }
   ],
   "source": [
    "# Check for Armstrong Number\n",
    "\n",
    "num = int(input(\"Enter the number: \"))\n",
    "sum = 0\n",
    "temp = num \n",
    "while temp>0:\n",
    "    digit = temp%10\n",
    "    sum += digit**3\n",
    "    temp//=10\n",
    "if num == sum:\n",
    "    print(num,\"is an Armstrong Number\")\n",
    "else:\n",
    "    print(num,\"is not an Armstrong Number\")\n"
   ]
  },
  {
   "cell_type": "code",
   "execution_count": 2,
   "metadata": {},
   "outputs": [
    {
     "name": "stdout",
     "output_type": "stream",
     "text": [
      "Enter the radius of the circle: 4\n",
      "Area of circle with radius 4 is 50.24\n"
     ]
    }
   ],
   "source": [
    "# Finding the area of a circle\n",
    "\n",
    "r = int(input(\"Enter the radius of the circle: \"))\n",
    "area_of_circle = 3.14 * r * r\n",
    "print(\"Area of circle with radius\",r,\"is\",area_of_circle)"
   ]
  },
  {
   "cell_type": "code",
   "execution_count": 9,
   "metadata": {},
   "outputs": [
    {
     "name": "stdout",
     "output_type": "stream",
     "text": [
      "Enter the start value: 11\n",
      "Enter the end value: 50\n",
      "Prime numbers between 11 and 50 are:\n",
      "11\n",
      "13\n",
      "17\n",
      "19\n",
      "23\n",
      "29\n",
      "31\n",
      "37\n",
      "41\n",
      "43\n",
      "47\n"
     ]
    }
   ],
   "source": [
    "# Print prime numbers between an interval\n",
    "\n",
    "start = int(input(\"Enter the start value: \"))\n",
    "end = int(input(\"Enter the end value: \"))\n",
    "print(\"Prime numbers between\", start, \"and\", end, \"are:\")\n",
    "\n",
    "for num in range(start, end + 1):\n",
    "   # all prime numbers are greater than 1\n",
    "   if num > 1:\n",
    "       for i in range(2, num):\n",
    "           if (num % i) == 0:\n",
    "               break\n",
    "       else:\n",
    "           print(num)"
   ]
  },
  {
   "cell_type": "code",
   "execution_count": null,
   "metadata": {},
   "outputs": [],
   "source": []
  },
  {
   "cell_type": "code",
   "execution_count": null,
   "metadata": {},
   "outputs": [],
   "source": []
  },
  {
   "cell_type": "code",
   "execution_count": null,
   "metadata": {},
   "outputs": [],
   "source": []
  },
  {
   "cell_type": "code",
   "execution_count": null,
   "metadata": {},
   "outputs": [],
   "source": []
  },
  {
   "cell_type": "code",
   "execution_count": null,
   "metadata": {},
   "outputs": [],
   "source": []
  },
  {
   "cell_type": "code",
   "execution_count": null,
   "metadata": {},
   "outputs": [],
   "source": []
  },
  {
   "cell_type": "code",
   "execution_count": null,
   "metadata": {},
   "outputs": [],
   "source": []
  }
 ],
 "metadata": {
  "kernelspec": {
   "display_name": "Python 3",
   "language": "python",
   "name": "python3"
  },
  "language_info": {
   "codemirror_mode": {
    "name": "ipython",
    "version": 3
   },
   "file_extension": ".py",
   "mimetype": "text/x-python",
   "name": "python",
   "nbconvert_exporter": "python",
   "pygments_lexer": "ipython3",
   "version": "3.7.3"
  }
 },
 "nbformat": 4,
 "nbformat_minor": 2
}
